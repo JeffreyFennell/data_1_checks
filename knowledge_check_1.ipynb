{
 "cells": [
  {
   "cell_type": "code",
   "execution_count": 5,
   "metadata": {},
   "outputs": [
    {
     "name": "stdout",
     "output_type": "stream",
     "text": [
      "Hello World!\n"
     ]
    }
   ],
   "source": [
    "# statement that prints \"hello world!\"\n",
    "print(\"Hello World!\")"
   ]
  },
  {
   "cell_type": "code",
   "execution_count": 6,
   "metadata": {},
   "outputs": [
    {
     "name": "stdout",
     "output_type": "stream",
     "text": [
      "Cheetahs\n"
     ]
    }
   ],
   "source": [
    "# a list populated with several values.\n",
    "big_cats = [\"Lions\", \"Tigers\", \"Cheetahs\", \"Leopards\"]\n",
    "\n",
    "# Then, print() one of those values either to the prompt or in a cell (if using Jupyter Notebook)\n",
    "print(big_cats[2])\n"
   ]
  },
  {
   "cell_type": "code",
   "execution_count": 7,
   "metadata": {},
   "outputs": [
    {
     "name": "stdout",
     "output_type": "stream",
     "text": [
      "Leopards\n"
     ]
    }
   ],
   "source": [
    "# a dictionary populated with two keys and two values\n",
    "big_cat_rank = {1: 'Lions', 2: 'Tigers', 3: 'Cheetahs', 4: 'Leopards'}\n",
    "\n",
    "# Print one of the values just like you did above.\n",
    "print(big_cat_rank[4])\n",
    "\n",
    "# Miscellaneous\n",
    "# big_cat_rank[5]= \"Cougars\"\n",
    "# print(big_cat_rank)\n",
    "\n",
    "# big_cat_rank.pop(5)\n",
    "# print(big_cat_rank)"
   ]
  },
  {
   "cell_type": "code",
   "execution_count": 8,
   "metadata": {},
   "outputs": [
    {
     "name": "stdout",
     "output_type": "stream",
     "text": [
      "Lions\n"
     ]
    }
   ],
   "source": [
    "# a tuple with 4 values.\n",
    "big_cat_tuple = (\"Lions\", \"Tigers\", \"Cheetahs\", \"Leopards\")\n",
    "\n",
    "# Print one of them.\n",
    "print(big_cat_tuple[0])\n"
   ]
  }
 ],
 "metadata": {
  "kernelspec": {
   "display_name": "base",
   "language": "python",
   "name": "python3"
  },
  "language_info": {
   "codemirror_mode": {
    "name": "ipython",
    "version": 3
   },
   "file_extension": ".py",
   "mimetype": "text/x-python",
   "name": "python",
   "nbconvert_exporter": "python",
   "pygments_lexer": "ipython3",
   "version": "3.9.13"
  },
  "orig_nbformat": 4,
  "vscode": {
   "interpreter": {
    "hash": "bbf6b1e44a74adad0e4d6c2bdc6230d7f1b5d34bbbf628593b294b0798f964d1"
   }
  }
 },
 "nbformat": 4,
 "nbformat_minor": 2
}
