{
 "cells": [
  {
   "cell_type": "code",
   "execution_count": 1,
   "metadata": {},
   "outputs": [
    {
     "name": "stdout",
     "output_type": "stream",
     "text": [
      "Hello World!\n"
     ]
    }
   ],
   "source": [
    "print(\"Hello World!\")"
   ]
  },
  {
   "cell_type": "code",
   "execution_count": 28,
   "metadata": {},
   "outputs": [
    {
     "name": "stdout",
     "output_type": "stream",
     "text": [
      "Cheetahs\n"
     ]
    },
    {
     "data": {
      "text/plain": [
       "'Cheetahs'"
      ]
     },
     "execution_count": 28,
     "metadata": {},
     "output_type": "execute_result"
    }
   ],
   "source": [
    "big_cats = [\"Lions\", \"Tigers\", \"Cheetahs\", \"Leopards\"]\n",
    "print(big_cats[2])\n",
    "\n",
    "big_cats[2]"
   ]
  },
  {
   "cell_type": "code",
   "execution_count": 29,
   "metadata": {},
   "outputs": [
    {
     "name": "stdout",
     "output_type": "stream",
     "text": [
      "Leopards\n",
      "{1: 'Lions', 2: 'Tigers', 3: 'Cheetahs', 4: 'Leopards', 5: 'Cougars'}\n",
      "{1: 'Lions', 2: 'Tigers', 3: 'Cheetahs', 4: 'Leopards'}\n"
     ]
    }
   ],
   "source": [
    "big_cat_rank = {1: 'Lions', 2: 'Tigers', 3: 'Cheetahs', 4: 'Leopards'}\n",
    "print(big_cat_rank[4])\n",
    "\n",
    "big_cat_rank[5]= \"Cougars\"\n",
    "print(big_cat_rank)\n",
    "\n",
    "big_cat_rank.pop(5)\n",
    "print(big_cat_rank)"
   ]
  },
  {
   "cell_type": "code",
   "execution_count": 27,
   "metadata": {},
   "outputs": [
    {
     "name": "stdout",
     "output_type": "stream",
     "text": [
      "Cheetahs\n"
     ]
    },
    {
     "data": {
      "text/plain": [
       "'Cheetahs'"
      ]
     },
     "execution_count": 27,
     "metadata": {},
     "output_type": "execute_result"
    }
   ],
   "source": [
    "big_cat_tuple = (\"Lions\", \"Tigers\", \"Cheetahs\", \"Leopards\")\n",
    "print(big_cat_tuple[2])\n",
    "\n",
    "big_cat_tuple[2]"
   ]
  }
 ],
 "metadata": {
  "kernelspec": {
   "display_name": "Python 3",
   "language": "python",
   "name": "python3"
  },
  "language_info": {
   "codemirror_mode": {
    "name": "ipython",
    "version": 3
   },
   "file_extension": ".py",
   "mimetype": "text/x-python",
   "name": "python",
   "nbconvert_exporter": "python",
   "pygments_lexer": "ipython3",
   "version": "3.11.1"
  },
  "orig_nbformat": 4,
  "vscode": {
   "interpreter": {
    "hash": "89594398b40e4de28ab79ed517ccccd25bfe0af59018ce833929567e99da5baa"
   }
  }
 },
 "nbformat": 4,
 "nbformat_minor": 2
}
