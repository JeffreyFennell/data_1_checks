{
 "cells": [
  {
   "cell_type": "code",
   "execution_count": 1,
   "metadata": {},
   "outputs": [
    {
     "name": "stdout",
     "output_type": "stream",
     "text": [
      "Hello World!\n"
     ]
    }
   ],
   "source": [
    "print(\"Hello World!\")"
   ]
  },
  {
   "cell_type": "code",
   "execution_count": 4,
   "metadata": {},
   "outputs": [
    {
     "name": "stdout",
     "output_type": "stream",
     "text": [
      "Aquatico\n"
     ]
    }
   ],
   "source": [
    "game_releases = [\n",
    "   \n",
    "            {\"January\":     \n",
    "                            [    \n",
    "                                [\"Dragonball Z Kakarot\", \"01/13/2023\", (\"Xbox\", \"Playstation\", \"PC\")],\n",
    "                                [\"Aquatico\", \"01/12/2023\", (\"PC\")],\n",
    "                                [\"Persona 4 Golden\", \"01/19/2023\", (\"Xbox\", \"Playstation\", \"PC\")]                                \n",
    "                            ]\n",
    "            },\n",
    "            {\"February\":    \n",
    "                            [\n",
    "                                [\"Hogwarts Legacy\", \"02/10/2023\", (\"Xbox\", \"Playstation\", \"PC\")], \n",
    "                                [\"Atomic Heart\", \"02/21/2023\", (\"Xbox\", \"Playstation\", \"PC\")],\n",
    "                                [\"Wild Hearts\", \"02/17/2023\", (\"Xbox\", \"Playstation\", \"PC\")],\n",
    "                                [\"Destiny 2: Lightfall\", \"02/28/2023\", (\"Xbox\", \"Playstation\", \"PC\")]\n",
    "                                \n",
    "                            ]\n",
    "            },\n",
    "            {\"March\":       \n",
    "                            [\n",
    "                                [\"WWE 2K23\", \"03/17/2023\", (\"Xbox\", \"Playstation\", \"PC\")],\n",
    "                                [\"Resident Evil 4 (Remake)\", \"03/24/2023\", (\"Xbox\", \"Playstation\", \"PC\")],\n",
    "                                [\"MLB The Show 23\", \"03/28/2023\", (\"Xbox\", \"Playstation\", \"Switch\")]\n",
    "                                \n",
    "                            ]   \n",
    "            }\n",
    "        ]\n",
    "\n",
    "\n",
    "print(game_releases[0][\"January\"][1][0])"
   ]
  },
  {
   "cell_type": "code",
   "execution_count": 15,
   "metadata": {},
   "outputs": [
    {
     "name": "stdout",
     "output_type": "stream",
     "text": [
      "Autumn\n"
     ]
    }
   ],
   "source": [
    "seasons = (\"Spring\", \"Summer\", \"Autumn\", \"Winter\")\n",
    "print(seasons[2])"
   ]
  },
  {
   "cell_type": "code",
   "execution_count": null,
   "metadata": {},
   "outputs": [],
   "source": [
    "game_releases[\"January\"] = [{\"Title\": \"Forspoken\", \"Release Day\": 24, \"Platform\": (\"Playstation\", \"PC\")}]"
   ]
  }
 ],
 "metadata": {
  "kernelspec": {
   "display_name": "Python 3",
   "language": "python",
   "name": "python3"
  },
  "language_info": {
   "codemirror_mode": {
    "name": "ipython",
    "version": 3
   },
   "file_extension": ".py",
   "mimetype": "text/x-python",
   "name": "python",
   "nbconvert_exporter": "python",
   "pygments_lexer": "ipython3",
   "version": "3.11.1"
  },
  "orig_nbformat": 4,
  "vscode": {
   "interpreter": {
    "hash": "89594398b40e4de28ab79ed517ccccd25bfe0af59018ce833929567e99da5baa"
   }
  }
 },
 "nbformat": 4,
 "nbformat_minor": 2
}
