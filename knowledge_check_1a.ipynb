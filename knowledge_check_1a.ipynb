{
 "cells": [
  {
   "cell_type": "code",
   "execution_count": 1,
   "metadata": {},
   "outputs": [
    {
     "name": "stdout",
     "output_type": "stream",
     "text": [
      "Hello World!\n"
     ]
    }
   ],
   "source": [
    "print(\"Hello World!\")"
   ]
  },
  {
   "cell_type": "code",
   "execution_count": 16,
   "metadata": {},
   "outputs": [
    {
     "name": "stdout",
     "output_type": "stream",
     "text": [
      "{'Title': 'Hogwarts Legacy', 'Release Day': 10, 'Platform': ('Xbox', 'Playstation', 'PC')}\n"
     ]
    }
   ],
   "source": [
    "game_releases = [\n",
    "   \n",
    "            {\"January\":     [    \n",
    "                                {\"Title\": \"Dragonball Z Kakarot\", \"Release Day\": (13), \"Platform\": (\"Xbox\", \"Playstation\", \"PC\")\n",
    "                                },\n",
    "                                {\"Title\": \"Aquatico\", \"Release Day\": (12), \"Platform\": (\"PC\")\n",
    "                                },\n",
    "                                {\"Title\": \"Persona 4 Golden\", \"Release Day\": (19), \"Platform\": (\"Xbox\", \"Playstation\", \"PC\")\n",
    "                                }\n",
    "                            ]\n",
    "            },\n",
    "            {\"February\":    [\n",
    "                                {\"Title\": \"Hogwarts Legacy\", \"Release Day\": (10), \"Platform\": (\"Xbox\", \"Playstation\", \"PC\")}, \n",
    "                                {\"Title\": \"Atomic Heart\", \"Release Day\": (21), \"Platform\": (\"Xbox\", \"Playstation\", \"PC\")},\n",
    "                                {\"Title\": \"Wild Hearts\", \"Release Day\": (17), \"Platform\": (\"Xbox\", \"Playstation\", \"PC\")},\n",
    "                                {\"Title\": \"Destiny 2: Lightfall\", \"Release Day\": (28), \"Platform\": (\"Xbox\", \"Playstation\", \"PC\" )\n",
    "                                }\n",
    "                            ]\n",
    "\n",
    "            },\n",
    "            {\"March\":       [\n",
    "                                {\"Title\": \"WWE 2K23\", \"Release Day\": (17), \"Platform\": (\"Xbox\", \"Playstation\", \"PC\")\n",
    "                                },\n",
    "                                {\"Title\": \"Resident Evil 4 (Remake)\", \"Release Day\": (24), \"Platform\": (\"Xbox\", \"Playstation\", \"PC\")\n",
    "                                },\n",
    "                                {\"Title\": \"MLB The Show 23\", \"Release Day\": (28), \"Platform\": (\"Xbox\", \"Playstation\", \"Switch\")\n",
    "                                }\n",
    "                            ]   \n",
    "            }\n",
    "        ]\n",
    "\n",
    "print(game_releases[1][\"February\"][0])\n"
   ]
  },
  {
   "cell_type": "code",
   "execution_count": 15,
   "metadata": {},
   "outputs": [
    {
     "name": "stdout",
     "output_type": "stream",
     "text": [
      "Autumn\n"
     ]
    }
   ],
   "source": [
    "seasons = (\"Spring\", \"Summer\", \"Autumn\", \"Winter\")\n",
    "print(seasons[2])"
   ]
  }
 ],
 "metadata": {
  "kernelspec": {
   "display_name": "Python 3",
   "language": "python",
   "name": "python3"
  },
  "language_info": {
   "codemirror_mode": {
    "name": "ipython",
    "version": 3
   },
   "file_extension": ".py",
   "mimetype": "text/x-python",
   "name": "python",
   "nbconvert_exporter": "python",
   "pygments_lexer": "ipython3",
   "version": "3.11.1"
  },
  "orig_nbformat": 4,
  "vscode": {
   "interpreter": {
    "hash": "89594398b40e4de28ab79ed517ccccd25bfe0af59018ce833929567e99da5baa"
   }
  }
 },
 "nbformat": 4,
 "nbformat_minor": 2
}
